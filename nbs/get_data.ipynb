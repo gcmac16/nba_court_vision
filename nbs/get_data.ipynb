{
 "cells": [
  {
   "cell_type": "code",
   "execution_count": 4,
   "metadata": {},
   "outputs": [
    {
     "ename": "ModuleNotFoundError",
     "evalue": "No module named 'selenium'",
     "output_type": "error",
     "traceback": [
      "\u001b[0;31m---------------------------------------------------------------------------\u001b[0m",
      "\u001b[0;31mModuleNotFoundError\u001b[0m                       Traceback (most recent call last)",
      "\u001b[0;32m<ipython-input-4-d259868df383>\u001b[0m in \u001b[0;36m<module>\u001b[0;34m()\u001b[0m\n\u001b[1;32m      5\u001b[0m \u001b[0;32mimport\u001b[0m \u001b[0mpickle\u001b[0m\u001b[0;34m\u001b[0m\u001b[0m\n\u001b[1;32m      6\u001b[0m \u001b[0;34m\u001b[0m\u001b[0m\n\u001b[0;32m----> 7\u001b[0;31m \u001b[0;32mfrom\u001b[0m \u001b[0mselenium\u001b[0m \u001b[0;32mimport\u001b[0m \u001b[0mwebdriver\u001b[0m\u001b[0;34m\u001b[0m\u001b[0m\n\u001b[0m\u001b[1;32m      8\u001b[0m \u001b[0;32mfrom\u001b[0m \u001b[0mselenium\u001b[0m\u001b[0;34m.\u001b[0m\u001b[0mwebdriver\u001b[0m\u001b[0;34m.\u001b[0m\u001b[0mchrome\u001b[0m\u001b[0;34m.\u001b[0m\u001b[0moptions\u001b[0m \u001b[0;32mimport\u001b[0m \u001b[0mOptions\u001b[0m\u001b[0;34m\u001b[0m\u001b[0m\n\u001b[1;32m      9\u001b[0m \u001b[0;34m\u001b[0m\u001b[0m\n",
      "\u001b[0;31mModuleNotFoundError\u001b[0m: No module named 'selenium'"
     ]
    }
   ],
   "source": [
    "import os\n",
    "import sys\n",
    "import numpy as np\n",
    "import pandas as pd\n",
    "import pickle\n",
    "\n",
    "from selenium import webdriver\n",
    "from selenium.webdriver.chrome.options import Options\n",
    "\n",
    "from time import sleep"
   ]
  },
  {
   "cell_type": "code",
   "execution_count": 3,
   "metadata": {
    "collapsed": true
   },
   "outputs": [],
   "source": [
    "# teams to iterate over\n",
    "teams = ['rockets', 'raptors', 'blazers', 'thunder', 'jazz', 'pelicans', \n",
    "         'spurs', 'wolves', 'nuggets', 'clippers', 'lakers', 'kings', \n",
    "         'mavs', 'grizzlies', 'suns', 'warriors', 'celtics', '76ers', \n",
    "         'cavs', 'pacers', 'heat', 'bucks', 'wizards', 'pistons', \n",
    "         'hornets', 'knicks', 'nets', 'bulls', 'magic', 'hawks']"
   ]
  },
  {
   "cell_type": "code",
   "execution_count": 20,
   "metadata": {
    "collapsed": true
   },
   "outputs": [],
   "source": [
    "low_acc_teams = ['spurs','thunder','knicks','grizzlies','wolves','kings','suns','wizards','nuggets','raptors'] + ['raptors']*2\n",
    "perf_teams = list(set(teams) - set(low_acc_teams))"
   ]
  },
  {
   "cell_type": "code",
   "execution_count": 2,
   "metadata": {},
   "outputs": [],
   "source": [
    "def get_images(team_1, team_2, print_teams=False, pickle_path='pic_map.pkl'):\n",
    "    \n",
    "    res_list = pickle.load(open(pickle_path,'rb')) if pickle_path else []\n",
    "    \n",
    "    if (team_1, team_2) in team_combs:\n",
    "        return False\n",
    "    team_combs.add((team_1, team_2))\n",
    "    res_dict = {t:0 for t in teams} # initialize all teams to 0\n",
    "    res_dict[team_1] = 1\n",
    "    res_dict[team_2] = 1\n",
    "    \n",
    "    if print_teams: print(home_team, away_team)\n",
    "    \n",
    "    driver.get(f'https://www.youtube.com/results?search_query={home_team}+vs+{away_team}+highlights+2018&start=20')\n",
    "    yt_id = driver.find_element_by_id(\"video-title\").get_attribute('href').split(\"?v=\")[1]\n",
    "\n",
    "    driver.get(f'http://www.youtube.com/embed/{yt_id}?rel=0&autoplay=1&start=20')\n",
    "    for i in range(5):\n",
    "        sleep(7)\n",
    "        file_path = f'/users/gcmac/desktop/nba_photos/team_p2/{home_team}_{away_team}_h1_{i}.jpg'\n",
    "#         driver.get_screenshot_as_file(file_path)\n",
    "        res_dict['file'] = file_path\n",
    "        res_list.append(res_dict)\n",
    "    \n",
    "    # skip to second half to get shots of teams on opposite sides of court for offense/defense\n",
    "    driver.get(f'http://www.youtube.com/embed/{yt_id}?rel=0&autoplay=1&start=300')\n",
    "    for i in range(5):\n",
    "        sleep(8)\n",
    "        file_path = f'/users/gcmac/desktop/nba_photos/team_p2/{home_team}_{away_team}_h2_{i}.jpg'\n",
    "        driver.get_screenshot_as_file(file_path)\n",
    "        res_dict['file'] = file_path\n",
    "        res_list.append(res_dict)\n",
    "    return pd.DataFrame(res_list)\n",
    "#     pickle.dump(res_list, open(pickle_path,'wb'))\n",
    "    "
   ]
  },
  {
   "cell_type": "code",
   "execution_count": 3,
   "metadata": {},
   "outputs": [
    {
     "ename": "NameError",
     "evalue": "name 'pickle' is not defined",
     "output_type": "error",
     "traceback": [
      "\u001b[0;31m---------------------------------------------------------------------------\u001b[0m",
      "\u001b[0;31mNameError\u001b[0m                                 Traceback (most recent call last)",
      "\u001b[0;32m<ipython-input-3-466cfaa007f6>\u001b[0m in \u001b[0;36m<module>\u001b[0;34m()\u001b[0m\n\u001b[0;32m----> 1\u001b[0;31m \u001b[0mget_images\u001b[0m\u001b[0;34m(\u001b[0m\u001b[0;34m'wizards'\u001b[0m\u001b[0;34m,\u001b[0m\u001b[0;34m'wolves'\u001b[0m\u001b[0;34m)\u001b[0m\u001b[0;34m\u001b[0m\u001b[0m\n\u001b[0m",
      "\u001b[0;32m<ipython-input-2-cd7ccd9ffe75>\u001b[0m in \u001b[0;36mget_images\u001b[0;34m(team_1, team_2, print_teams, pickle_path)\u001b[0m\n\u001b[1;32m      1\u001b[0m \u001b[0;32mdef\u001b[0m \u001b[0mget_images\u001b[0m\u001b[0;34m(\u001b[0m\u001b[0mteam_1\u001b[0m\u001b[0;34m,\u001b[0m \u001b[0mteam_2\u001b[0m\u001b[0;34m,\u001b[0m \u001b[0mprint_teams\u001b[0m\u001b[0;34m=\u001b[0m\u001b[0;32mFalse\u001b[0m\u001b[0;34m,\u001b[0m \u001b[0mpickle_path\u001b[0m\u001b[0;34m=\u001b[0m\u001b[0;34m'pic_map.pkl'\u001b[0m\u001b[0;34m)\u001b[0m\u001b[0;34m:\u001b[0m\u001b[0;34m\u001b[0m\u001b[0m\n\u001b[1;32m      2\u001b[0m \u001b[0;34m\u001b[0m\u001b[0m\n\u001b[0;32m----> 3\u001b[0;31m     \u001b[0mres_list\u001b[0m \u001b[0;34m=\u001b[0m \u001b[0mpickle\u001b[0m\u001b[0;34m.\u001b[0m\u001b[0mload\u001b[0m\u001b[0;34m(\u001b[0m\u001b[0mopen\u001b[0m\u001b[0;34m(\u001b[0m\u001b[0mpickle_path\u001b[0m\u001b[0;34m,\u001b[0m\u001b[0;34m'rb'\u001b[0m\u001b[0;34m)\u001b[0m\u001b[0;34m)\u001b[0m \u001b[0;32mif\u001b[0m \u001b[0mpickle_path\u001b[0m \u001b[0;32melse\u001b[0m \u001b[0;34m[\u001b[0m\u001b[0;34m]\u001b[0m\u001b[0;34m\u001b[0m\u001b[0m\n\u001b[0m\u001b[1;32m      4\u001b[0m \u001b[0;34m\u001b[0m\u001b[0m\n\u001b[1;32m      5\u001b[0m     \u001b[0;32mif\u001b[0m \u001b[0;34m(\u001b[0m\u001b[0mteam_1\u001b[0m\u001b[0;34m,\u001b[0m \u001b[0mteam_2\u001b[0m\u001b[0;34m)\u001b[0m \u001b[0;32min\u001b[0m \u001b[0mteam_combs\u001b[0m\u001b[0;34m:\u001b[0m\u001b[0;34m\u001b[0m\u001b[0m\n",
      "\u001b[0;31mNameError\u001b[0m: name 'pickle' is not defined"
     ]
    }
   ],
   "source": [
    "get_images('wizards','wolves')"
   ]
  },
  {
   "cell_type": "code",
   "execution_count": 23,
   "metadata": {},
   "outputs": [
    {
     "name": "stdout",
     "output_type": "stream",
     "text": [
      "wolves clippers\n"
     ]
    },
    {
     "name": "stderr",
     "output_type": "stream",
     "text": [
      "/Users/gcmac/anaconda3/lib/python3.6/site-packages/selenium/webdriver/remote/webdriver.py:1009: UserWarning: name used for saved screenshot does not match file type. It should end with a `.png` extension\n",
      "  \"type. It should end with a `.png` extension\", UserWarning)\n"
     ]
    },
    {
     "name": "stdout",
     "output_type": "stream",
     "text": [
      "suns celtics\n",
      "knicks grizzlies\n",
      "wizards spurs\n",
      "spurs kings\n",
      "thunder heat\n",
      "wizards pistons\n",
      "spurs hawks\n",
      "grizzlies warriors\n",
      "nuggets cavs\n",
      "kings thunder\n",
      "nuggets raptors\n",
      "nuggets pelicans\n",
      "knicks rockets\n",
      "raptors clippers\n",
      "thunder thunder\n",
      "raptors hornets\n",
      "raptors celtics\n",
      "grizzlies spurs\n",
      "kings lakers\n",
      "grizzlies wolves\n",
      "suns cavs\n"
     ]
    }
   ],
   "source": [
    "driver = webdriver.Firefox() \n",
    "driver.maximize_window()\n",
    "\n",
    "for iter_num in range(30):\n",
    "    home_team = np.random.choice(low_acc_teams, 1)[0]\n",
    "    other_teams = list(set(teams) - set(home_team))\n",
    "    away_team = np.random.choice(other_teams, 1)[0]\n",
    "    if (home_team, away_team) in team_combs:\n",
    "        continue\n",
    "    team_combs.add((home_team, away_team))\n",
    "    res_dict = {t:0 for t in teams}\n",
    "    res_dict[home_team] = 1\n",
    "    res_dict[away_team] = 1\n",
    "    print(home_team, away_team)\n",
    "\n",
    "    driver.get(f'https://www.youtube.com/results?search_query={home_team}+vs+{away_team}+highlights+2018&start=20')\n",
    "    yt_id = driver.find_element_by_id(\"video-title\").get_attribute('href').split(\"?v=\")[1]\n",
    "\n",
    "    driver.get(f'http://www.youtube.com/embed/{yt_id}?rel=0&autoplay=1&start=20')\n",
    "    for i in range(5):\n",
    "        \n",
    "        sleep(7)\n",
    "    #         print(f'/users/gcmac/desktop/nba_photos/team/{home_team}_{away_team}_h1_{i}.jpg')\n",
    "        driver.get_screenshot_as_file(f'/users/gcmac/desktop/nba_photos/team_p2/{home_team}_{away_team}_h1_{i}.jpg')\n",
    "        res_dict['file'] = f'/users/gcmac/desktop/nba_photos/team_p2/{home_team}_{away_team}_h1_{i}.jpg'\n",
    "        res_list.append(res_dict)\n",
    "\n",
    "    driver.get(f'http://www.youtube.com/embed/{yt_id}?rel=0&autoplay=1&start=300')\n",
    "    for i in range(5):\n",
    "        sleep(8)\n",
    "        driver.get_screenshot_as_file(f'/users/gcmac/desktop/nba_photos/team_p2/{home_team}_{away_team}_h2_{i}.jpg')\n",
    "        res_dict['file'] = f'/users/gcmac/desktop/nba_photos/team_p2/{home_team}_{away_team}_h1_{i}.jpg'\n",
    "        res_list.append(res_dict)\n",
    "\n",
    "    pickle.dump(res_list, open('pic_map.pkl','wb'))\n",
    "    # print(time() - tic)"
   ]
  },
  {
   "cell_type": "code",
   "execution_count": null,
   "metadata": {
    "collapsed": true
   },
   "outputs": [],
   "source": [
    "d = {t:0 for t in teams}"
   ]
  },
  {
   "cell_type": "code",
   "execution_count": null,
   "metadata": {
    "collapsed": true
   },
   "outputs": [],
   "source": [
    "d[home_team] = 1\n",
    "d[away_team] = 1"
   ]
  },
  {
   "cell_type": "code",
   "execution_count": null,
   "metadata": {
    "collapsed": true
   },
   "outputs": [],
   "source": [
    "team_combs = set()"
   ]
  },
  {
   "cell_type": "code",
   "execution_count": null,
   "metadata": {
    "collapsed": true
   },
   "outputs": [],
   "source": [
    "driver.find_element_by_id('player').send_keys('k')"
   ]
  },
  {
   "cell_type": "code",
   "execution_count": null,
   "metadata": {
    "collapsed": true
   },
   "outputs": [],
   "source": [
    "driver.find_element_by_css_selector('html').send_keys('k')"
   ]
  },
  {
   "cell_type": "code",
   "execution_count": null,
   "metadata": {
    "collapsed": true
   },
   "outputs": [],
   "source": [
    "for f in os.listdir('../photos'):\n",
    "    os.rename(f'../photos/{f}', f'../photos/{f}.jpg')"
   ]
  },
  {
   "cell_type": "code",
   "execution_count": null,
   "metadata": {
    "collapsed": true
   },
   "outputs": [],
   "source": [
    "for f in os.listdir('../photos'):\n",
    "    print(f)"
   ]
  },
  {
   "cell_type": "code",
   "execution_count": null,
   "metadata": {
    "collapsed": true
   },
   "outputs": [],
   "source": [
    "f"
   ]
  },
  {
   "cell_type": "code",
   "execution_count": null,
   "metadata": {
    "collapsed": true
   },
   "outputs": [],
   "source": [
    "import os\n",
    "import sys\n",
    "\n",
    "def rename(rename_tag):\n",
    "    i = 0\n",
    "    for f in os.listdir(\".\"):\n",
    "#         print(str(f))\n",
    "        if f[:3] == 'nba':\n",
    "            if f[0] != '.' and f[4:7] == 'f12': \n",
    "                print(f)\n",
    "                os.rename(f, \"Screen Shot %i\"%(i))\n",
    "                i += 1\n",
    "\n",
    "\n",
    "# if __name__() == '__main__':\n",
    "# f_list = []\n",
    "# for f in os.listdir(\".\"):\n",
    "#     try:\n",
    "#         fname_pt1 = f.split(\"_\")[1]\n",
    "#         if fname_pt1[0] == 'f':\n",
    "#             f_list.append(f.split(\"_\")[1])\n",
    "#     except:\n",
    "#         pass\n",
    "\n",
    "# f_val = max([int(s[1:]) for s in set(f_list)]) + 1\n",
    "# rename(f_val)\n"
   ]
  },
  {
   "cell_type": "code",
   "execution_count": null,
   "metadata": {
    "collapsed": true,
    "scrolled": true
   },
   "outputs": [],
   "source": [
    "for f in os.listdir(\".\"):\n",
    "    print(f)"
   ]
  },
  {
   "cell_type": "code",
   "execution_count": null,
   "metadata": {
    "collapsed": true,
    "scrolled": false
   },
   "outputs": [],
   "source": [
    "driver.find_element_by_xpath(\"//div[@class='view-count style-scope']\")"
   ]
  },
  {
   "cell_type": "code",
   "execution_count": null,
   "metadata": {
    "collapsed": true
   },
   "outputs": [],
   "source": [
    "driver.find_element_by_class_name('''ytp-fullscreen-button ytp-button''').click()"
   ]
  },
  {
   "cell_type": "code",
   "execution_count": null,
   "metadata": {
    "collapsed": true
   },
   "outputs": [],
   "source": [
    "f_set = {'f1','f12','f104','f103','f10000013313'}"
   ]
  },
  {
   "cell_type": "code",
   "execution_count": null,
   "metadata": {
    "collapsed": true
   },
   "outputs": [],
   "source": [
    "type(x)"
   ]
  },
  {
   "cell_type": "code",
   "execution_count": null,
   "metadata": {
    "collapsed": true
   },
   "outputs": [],
   "source": [
    "x[:10]"
   ]
  },
  {
   "cell_type": "code",
   "execution_count": null,
   "metadata": {
    "collapsed": true
   },
   "outputs": [],
   "source": [
    "driver.save_screenshot('/users/gcmac/test_img.png')"
   ]
  },
  {
   "cell_type": "code",
   "execution_count": null,
   "metadata": {
    "collapsed": true
   },
   "outputs": [],
   "source": [
    "max([int(s[1:]) for s in f_set]) + 1"
   ]
  },
  {
   "cell_type": "code",
   "execution_count": null,
   "metadata": {
    "collapsed": true
   },
   "outputs": [],
   "source": [
    "for i,f in enumerate(os.listdir(\".\")):\n",
    "    print(f)"
   ]
  },
  {
   "cell_type": "code",
   "execution_count": null,
   "metadata": {
    "collapsed": true
   },
   "outputs": [],
   "source": [
    "for f in sorted(os.listdir('/users/gcmac/desktop/nba_photos/team'))[:2300]:\n",
    "    os.rename(f'/users/gcmac/desktop/nba_photos/team/{f}', f'/users/gcmac/desktop/nba_photos/already_sent/{f}')"
   ]
  },
  {
   "cell_type": "code",
   "execution_count": null,
   "metadata": {
    "collapsed": true
   },
   "outputs": [],
   "source": [
    "for f in sorted(os.listdir('/users/gcmac/desktop/nba_photos/team')):\n",
    "    print(f)"
   ]
  },
  {
   "cell_type": "code",
   "execution_count": 3,
   "metadata": {
    "collapsed": true
   },
   "outputs": [],
   "source": [
    "df = pd.DataFrame(pickle.load(open('/users/gcmac/desktop/nba_photos/data_cleaning/pic_map.pkl','rb')))"
   ]
  },
  {
   "cell_type": "code",
   "execution_count": 4,
   "metadata": {},
   "outputs": [
    {
     "data": {
      "text/plain": [
       "Index(['76ers', 'blazers', 'bucks', 'bulls', 'cavs', 'celtics', 'clippers',\n",
       "       'file', 'grizzlies', 'hawks', 'heat', 'hornets', 'jazz', 'kings',\n",
       "       'knicks', 'lakers', 'magic', 'mavs', 'nets', 'nuggets', 'pacers',\n",
       "       'pelicans', 'pistons', 'raptors', 'rockets', 'spurs', 'suns', 'thunder',\n",
       "       'warriors', 'wizards', 'wolves'],\n",
       "      dtype='object')"
      ]
     },
     "execution_count": 4,
     "metadata": {},
     "output_type": "execute_result"
    }
   ],
   "source": [
    "df.columns"
   ]
  },
  {
   "cell_type": "code",
   "execution_count": 5,
   "metadata": {
    "collapsed": true
   },
   "outputs": [],
   "source": [
    "df.drop('file',1,inplace=True)"
   ]
  },
  {
   "cell_type": "code",
   "execution_count": 8,
   "metadata": {},
   "outputs": [
    {
     "data": {
      "text/plain": [
       "0            cavs\n",
       "1            cavs\n",
       "2            cavs\n",
       "3            cavs\n",
       "4            cavs\n",
       "5            cavs\n",
       "6            cavs\n",
       "7            cavs\n",
       "8            cavs\n",
       "9            cavs\n",
       "10          kings\n",
       "11          kings\n",
       "12          kings\n",
       "13          kings\n",
       "14          kings\n",
       "15          kings\n",
       "16          kings\n",
       "17          kings\n",
       "18          kings\n",
       "19          kings\n",
       "20         knicks\n",
       "21         knicks\n",
       "22         knicks\n",
       "23         knicks\n",
       "24         knicks\n",
       "25         knicks\n",
       "26         knicks\n",
       "27         knicks\n",
       "28         knicks\n",
       "29         knicks\n",
       "          ...    \n",
       "3380         cavs\n",
       "3381         cavs\n",
       "3382         cavs\n",
       "3383         cavs\n",
       "3384         cavs\n",
       "3385         cavs\n",
       "3386         cavs\n",
       "3387         cavs\n",
       "3388         cavs\n",
       "3389         cavs\n",
       "3390        bucks\n",
       "3391        bucks\n",
       "3392        bucks\n",
       "3393        bucks\n",
       "3394        bucks\n",
       "3395        bucks\n",
       "3396        bucks\n",
       "3397        bucks\n",
       "3398        bucks\n",
       "3399        bucks\n",
       "3400    grizzlies\n",
       "3401    grizzlies\n",
       "3402    grizzlies\n",
       "3403    grizzlies\n",
       "3404    grizzlies\n",
       "3405    grizzlies\n",
       "3406    grizzlies\n",
       "3407    grizzlies\n",
       "3408    grizzlies\n",
       "3409    grizzlies\n",
       "Length: 3410, dtype: object"
      ]
     },
     "execution_count": 8,
     "metadata": {},
     "output_type": "execute_result"
    }
   ],
   "source": [
    "df.idxmax(axis=1)"
   ]
  },
  {
   "cell_type": "code",
   "execution_count": 24,
   "metadata": {
    "collapsed": true
   },
   "outputs": [],
   "source": [
    "resp = ['heat','hornets','spurs','thunder','warriors','wolves','heat','lakers','kings','kings','kings','76ers','clippers',\n",
    " 'bulls','knicks','knicks','rockets','cavs','heat','mavs','raptors','bulls','raptors','raptors','raptors','heat',\n",
    "'raptors','raptors','kings','raptors','raptors','pistons','raptors','warriors','wolves','spurs','hawks','spurs',\n",
    "'spurs','cavs','suns','suns','celtics','heat','thunder','pelicans','thunder','thunder','clippers','grizzlies',\n",
    " 'pistons','spurs','wolves','wolves','lakers']\n",
    "\n",
    "resp_list = []\n",
    "for r in resp:\n",
    "    resp_list.extend([r]*10)"
   ]
  },
  {
   "cell_type": "code",
   "execution_count": 30,
   "metadata": {},
   "outputs": [],
   "source": [
    "from pathlib import Path\n",
    "\n",
    "path = Path('../team_p2')"
   ]
  },
  {
   "cell_type": "code",
   "execution_count": 33,
   "metadata": {},
   "outputs": [
    {
     "data": {
      "text/plain": [
       "{'.DS_Store',\n",
       " 'grizzlies_heat_h1_0.jpg',\n",
       " 'grizzlies_heat_h1_1.jpg',\n",
       " 'grizzlies_heat_h1_2.jpg',\n",
       " 'grizzlies_heat_h1_3.jpg',\n",
       " 'grizzlies_heat_h1_4.jpg',\n",
       " 'grizzlies_heat_h2_0.jpg',\n",
       " 'grizzlies_heat_h2_1.jpg',\n",
       " 'grizzlies_heat_h2_2.jpg',\n",
       " 'grizzlies_heat_h2_3.jpg',\n",
       " 'grizzlies_heat_h2_4.jpg',\n",
       " 'grizzlies_hornets_h1_0.jpg',\n",
       " 'grizzlies_hornets_h1_1.jpg',\n",
       " 'grizzlies_hornets_h1_2.jpg',\n",
       " 'grizzlies_hornets_h1_3.jpg',\n",
       " 'grizzlies_hornets_h1_4.jpg',\n",
       " 'grizzlies_hornets_h2_0.jpg',\n",
       " 'grizzlies_hornets_h2_1.jpg',\n",
       " 'grizzlies_hornets_h2_2.jpg',\n",
       " 'grizzlies_hornets_h2_3.jpg',\n",
       " 'grizzlies_hornets_h2_4.jpg',\n",
       " 'grizzlies_spurs_h1_0.jpg',\n",
       " 'grizzlies_spurs_h1_1.jpg',\n",
       " 'grizzlies_spurs_h1_2.jpg',\n",
       " 'grizzlies_spurs_h1_3.jpg',\n",
       " 'grizzlies_spurs_h1_4.jpg',\n",
       " 'grizzlies_spurs_h2_0.jpg',\n",
       " 'grizzlies_spurs_h2_1.jpg',\n",
       " 'grizzlies_spurs_h2_2.jpg',\n",
       " 'grizzlies_spurs_h2_3.jpg',\n",
       " 'grizzlies_spurs_h2_4.jpg',\n",
       " 'grizzlies_thunder_h1_0.jpg',\n",
       " 'grizzlies_thunder_h1_1.jpg',\n",
       " 'grizzlies_thunder_h1_2.jpg',\n",
       " 'grizzlies_thunder_h1_3.jpg',\n",
       " 'grizzlies_thunder_h1_4.jpg',\n",
       " 'grizzlies_thunder_h2_0.jpg',\n",
       " 'grizzlies_thunder_h2_1.jpg',\n",
       " 'grizzlies_thunder_h2_2.jpg',\n",
       " 'grizzlies_thunder_h2_3.jpg',\n",
       " 'grizzlies_thunder_h2_4.jpg',\n",
       " 'grizzlies_warriors_h1_0.jpg',\n",
       " 'grizzlies_warriors_h1_1.jpg',\n",
       " 'grizzlies_warriors_h1_2.jpg',\n",
       " 'grizzlies_warriors_h1_3.jpg',\n",
       " 'grizzlies_warriors_h1_4.jpg',\n",
       " 'grizzlies_warriors_h2_0.jpg',\n",
       " 'grizzlies_warriors_h2_1.jpg',\n",
       " 'grizzlies_warriors_h2_2.jpg',\n",
       " 'grizzlies_warriors_h2_3.jpg',\n",
       " 'grizzlies_warriors_h2_4.jpg',\n",
       " 'grizzlies_wolves_h1_0.jpg',\n",
       " 'grizzlies_wolves_h1_1.jpg',\n",
       " 'grizzlies_wolves_h1_2.jpg',\n",
       " 'grizzlies_wolves_h1_3.jpg',\n",
       " 'grizzlies_wolves_h1_4.jpg',\n",
       " 'grizzlies_wolves_h2_0.jpg',\n",
       " 'grizzlies_wolves_h2_1.jpg',\n",
       " 'grizzlies_wolves_h2_2.jpg',\n",
       " 'grizzlies_wolves_h2_3.jpg',\n",
       " 'grizzlies_wolves_h2_4.jpg',\n",
       " 'kings_heat_h1_0.jpg',\n",
       " 'kings_heat_h1_1.jpg',\n",
       " 'kings_heat_h1_2.jpg',\n",
       " 'kings_heat_h1_3.jpg',\n",
       " 'kings_heat_h1_4.jpg',\n",
       " 'kings_heat_h2_0.jpg',\n",
       " 'kings_heat_h2_1.jpg',\n",
       " 'kings_heat_h2_2.jpg',\n",
       " 'kings_heat_h2_3.jpg',\n",
       " 'kings_heat_h2_4.jpg',\n",
       " 'kings_lakers_h1_0.jpg',\n",
       " 'kings_lakers_h1_1.jpg',\n",
       " 'kings_lakers_h1_2.jpg',\n",
       " 'kings_lakers_h1_3.jpg',\n",
       " 'kings_lakers_h1_4.jpg',\n",
       " 'kings_lakers_h2_0.jpg',\n",
       " 'kings_lakers_h2_1.jpg',\n",
       " 'kings_lakers_h2_2.jpg',\n",
       " 'kings_lakers_h2_3.jpg',\n",
       " 'kings_lakers_h2_4.jpg',\n",
       " 'kings_pistons_h1_0.jpg',\n",
       " 'kings_pistons_h1_1.jpg',\n",
       " 'kings_pistons_h1_2.jpg',\n",
       " 'kings_pistons_h1_3.jpg',\n",
       " 'kings_pistons_h1_4.jpg',\n",
       " 'kings_pistons_h2_0.jpg',\n",
       " 'kings_pistons_h2_1.jpg',\n",
       " 'kings_pistons_h2_2.jpg',\n",
       " 'kings_pistons_h2_3.jpg',\n",
       " 'kings_pistons_h2_4.jpg',\n",
       " 'kings_thunder_h1_0.jpg',\n",
       " 'kings_thunder_h1_1.jpg',\n",
       " 'kings_thunder_h1_2.jpg',\n",
       " 'kings_thunder_h1_3.jpg',\n",
       " 'kings_thunder_h1_4.jpg',\n",
       " 'kings_thunder_h2_0.jpg',\n",
       " 'kings_thunder_h2_1.jpg',\n",
       " 'kings_thunder_h2_2.jpg',\n",
       " 'kings_thunder_h2_3.jpg',\n",
       " 'kings_thunder_h2_4.jpg',\n",
       " 'kings_warriors_h1_0.jpg',\n",
       " 'kings_warriors_h1_1.jpg',\n",
       " 'kings_warriors_h1_2.jpg',\n",
       " 'kings_warriors_h1_3.jpg',\n",
       " 'kings_warriors_h1_4.jpg',\n",
       " 'kings_warriors_h2_0.jpg',\n",
       " 'kings_warriors_h2_1.jpg',\n",
       " 'kings_warriors_h2_2.jpg',\n",
       " 'kings_warriors_h2_3.jpg',\n",
       " 'kings_warriors_h2_4.jpg',\n",
       " 'knicks_76ers_h1_0.jpg',\n",
       " 'knicks_76ers_h1_1.jpg',\n",
       " 'knicks_76ers_h1_2.jpg',\n",
       " 'knicks_76ers_h1_3.jpg',\n",
       " 'knicks_76ers_h1_4.jpg',\n",
       " 'knicks_76ers_h2_0.jpg',\n",
       " 'knicks_76ers_h2_1.jpg',\n",
       " 'knicks_76ers_h2_2.jpg',\n",
       " 'knicks_76ers_h2_3.jpg',\n",
       " 'knicks_76ers_h2_4.jpg',\n",
       " 'knicks_clippers_h1_0.jpg',\n",
       " 'knicks_clippers_h1_1.jpg',\n",
       " 'knicks_clippers_h1_2.jpg',\n",
       " 'knicks_clippers_h1_3.jpg',\n",
       " 'knicks_clippers_h1_4.jpg',\n",
       " 'knicks_clippers_h2_0.jpg',\n",
       " 'knicks_clippers_h2_1.jpg',\n",
       " 'knicks_clippers_h2_2.jpg',\n",
       " 'knicks_clippers_h2_3.jpg',\n",
       " 'knicks_clippers_h2_4.jpg',\n",
       " 'knicks_grizzlies_h1_0.jpg',\n",
       " 'knicks_grizzlies_h1_1.jpg',\n",
       " 'knicks_grizzlies_h1_2.jpg',\n",
       " 'knicks_grizzlies_h1_3.jpg',\n",
       " 'knicks_grizzlies_h1_4.jpg',\n",
       " 'knicks_grizzlies_h2_0.jpg',\n",
       " 'knicks_grizzlies_h2_1.jpg',\n",
       " 'knicks_grizzlies_h2_2.jpg',\n",
       " 'knicks_grizzlies_h2_3.jpg',\n",
       " 'knicks_grizzlies_h2_4.jpg',\n",
       " 'knicks_heat_h1_0.jpg',\n",
       " 'knicks_heat_h1_1.jpg',\n",
       " 'knicks_heat_h1_2.jpg',\n",
       " 'knicks_heat_h1_3.jpg',\n",
       " 'knicks_heat_h1_4.jpg',\n",
       " 'knicks_heat_h2_0.jpg',\n",
       " 'knicks_heat_h2_1.jpg',\n",
       " 'knicks_heat_h2_2.jpg',\n",
       " 'knicks_heat_h2_3.jpg',\n",
       " 'knicks_heat_h2_4.jpg',\n",
       " 'knicks_pelicans_h1_0.jpg',\n",
       " 'knicks_pelicans_h1_1.jpg',\n",
       " 'knicks_pelicans_h1_2.jpg',\n",
       " 'knicks_pelicans_h1_3.jpg',\n",
       " 'knicks_pelicans_h1_4.jpg',\n",
       " 'knicks_pelicans_h2_0.jpg',\n",
       " 'knicks_pelicans_h2_1.jpg',\n",
       " 'knicks_pelicans_h2_2.jpg',\n",
       " 'knicks_pelicans_h2_3.jpg',\n",
       " 'knicks_pelicans_h2_4.jpg',\n",
       " 'knicks_rockets_h1_0.jpg',\n",
       " 'knicks_rockets_h1_1.jpg',\n",
       " 'knicks_rockets_h1_2.jpg',\n",
       " 'knicks_rockets_h1_3.jpg',\n",
       " 'knicks_rockets_h1_4.jpg',\n",
       " 'knicks_rockets_h2_0.jpg',\n",
       " 'knicks_rockets_h2_1.jpg',\n",
       " 'knicks_rockets_h2_2.jpg',\n",
       " 'knicks_rockets_h2_3.jpg',\n",
       " 'knicks_rockets_h2_4.jpg',\n",
       " 'nuggets_cavs_h1_0.jpg',\n",
       " 'nuggets_cavs_h1_1.jpg',\n",
       " 'nuggets_cavs_h1_2.jpg',\n",
       " 'nuggets_cavs_h1_3.jpg',\n",
       " 'nuggets_cavs_h1_4.jpg',\n",
       " 'nuggets_cavs_h2_0.jpg',\n",
       " 'nuggets_cavs_h2_1.jpg',\n",
       " 'nuggets_cavs_h2_2.jpg',\n",
       " 'nuggets_cavs_h2_3.jpg',\n",
       " 'nuggets_cavs_h2_4.jpg',\n",
       " 'nuggets_magic_h1_0.jpg',\n",
       " 'nuggets_magic_h1_1.jpg',\n",
       " 'nuggets_magic_h1_2.jpg',\n",
       " 'nuggets_magic_h1_3.jpg',\n",
       " 'nuggets_magic_h1_4.jpg',\n",
       " 'nuggets_magic_h2_0.jpg',\n",
       " 'nuggets_magic_h2_1.jpg',\n",
       " 'nuggets_magic_h2_2.jpg',\n",
       " 'nuggets_magic_h2_3.jpg',\n",
       " 'nuggets_magic_h2_4.jpg',\n",
       " 'nuggets_mavs_h1_0.jpg',\n",
       " 'nuggets_mavs_h1_1.jpg',\n",
       " 'nuggets_mavs_h1_2.jpg',\n",
       " 'nuggets_mavs_h1_3.jpg',\n",
       " 'nuggets_mavs_h1_4.jpg',\n",
       " 'nuggets_mavs_h2_0.jpg',\n",
       " 'nuggets_mavs_h2_1.jpg',\n",
       " 'nuggets_mavs_h2_2.jpg',\n",
       " 'nuggets_mavs_h2_3.jpg',\n",
       " 'nuggets_mavs_h2_4.jpg',\n",
       " 'nuggets_raptors_h1_0.jpg',\n",
       " 'nuggets_raptors_h1_1.jpg',\n",
       " 'nuggets_raptors_h1_2.jpg',\n",
       " 'nuggets_raptors_h1_3.jpg',\n",
       " 'nuggets_raptors_h1_4.jpg',\n",
       " 'nuggets_raptors_h2_0.jpg',\n",
       " 'nuggets_raptors_h2_1.jpg',\n",
       " 'nuggets_raptors_h2_2.jpg',\n",
       " 'nuggets_raptors_h2_3.jpg',\n",
       " 'nuggets_raptors_h2_4.jpg',\n",
       " 'raptors_bulls_h1_0.jpg',\n",
       " 'raptors_bulls_h1_1.jpg',\n",
       " 'raptors_bulls_h1_2.jpg',\n",
       " 'raptors_bulls_h1_3.jpg',\n",
       " 'raptors_bulls_h1_4.jpg',\n",
       " 'raptors_bulls_h2_0.jpg',\n",
       " 'raptors_bulls_h2_1.jpg',\n",
       " 'raptors_bulls_h2_2.jpg',\n",
       " 'raptors_bulls_h2_3.jpg',\n",
       " 'raptors_bulls_h2_4.jpg',\n",
       " 'raptors_celtics_h1_0.jpg',\n",
       " 'raptors_celtics_h1_1.jpg',\n",
       " 'raptors_celtics_h1_2.jpg',\n",
       " 'raptors_celtics_h1_3.jpg',\n",
       " 'raptors_celtics_h1_4.jpg',\n",
       " 'raptors_celtics_h2_0.jpg',\n",
       " 'raptors_celtics_h2_1.jpg',\n",
       " 'raptors_celtics_h2_2.jpg',\n",
       " 'raptors_celtics_h2_3.jpg',\n",
       " 'raptors_celtics_h2_4.jpg',\n",
       " 'raptors_clippers_h1_0.jpg',\n",
       " 'raptors_clippers_h1_1.jpg',\n",
       " 'raptors_clippers_h1_2.jpg',\n",
       " 'raptors_clippers_h1_3.jpg',\n",
       " 'raptors_clippers_h1_4.jpg',\n",
       " 'raptors_clippers_h2_0.jpg',\n",
       " 'raptors_clippers_h2_1.jpg',\n",
       " 'raptors_clippers_h2_2.jpg',\n",
       " 'raptors_clippers_h2_3.jpg',\n",
       " 'raptors_clippers_h2_4.jpg',\n",
       " 'raptors_hawks_h1_0.jpg',\n",
       " 'raptors_hawks_h1_1.jpg',\n",
       " 'raptors_hawks_h1_2.jpg',\n",
       " 'raptors_hawks_h1_3.jpg',\n",
       " 'raptors_hawks_h1_4.jpg',\n",
       " 'raptors_hawks_h2_0.jpg',\n",
       " 'raptors_hawks_h2_1.jpg',\n",
       " 'raptors_hawks_h2_2.jpg',\n",
       " 'raptors_hawks_h2_3.jpg',\n",
       " 'raptors_hawks_h2_4.jpg',\n",
       " 'raptors_heat_h1_0.jpg',\n",
       " 'raptors_heat_h1_1.jpg',\n",
       " 'raptors_heat_h1_2.jpg',\n",
       " 'raptors_heat_h1_3.jpg',\n",
       " 'raptors_heat_h1_4.jpg',\n",
       " 'raptors_heat_h2_0.jpg',\n",
       " 'raptors_heat_h2_1.jpg',\n",
       " 'raptors_heat_h2_2.jpg',\n",
       " 'raptors_heat_h2_3.jpg',\n",
       " 'raptors_heat_h2_4.jpg',\n",
       " 'raptors_hornets_h1_0.jpg',\n",
       " 'raptors_hornets_h1_1.jpg',\n",
       " 'raptors_hornets_h1_2.jpg',\n",
       " 'raptors_hornets_h1_3.jpg',\n",
       " 'raptors_hornets_h1_4.jpg',\n",
       " 'raptors_hornets_h2_0.jpg',\n",
       " 'raptors_hornets_h2_1.jpg',\n",
       " 'raptors_hornets_h2_2.jpg',\n",
       " 'raptors_hornets_h2_3.jpg',\n",
       " 'raptors_hornets_h2_4.jpg',\n",
       " 'raptors_jazz_h1_0.jpg',\n",
       " 'raptors_jazz_h1_1.jpg',\n",
       " 'raptors_jazz_h1_2.jpg',\n",
       " 'raptors_jazz_h1_3.jpg',\n",
       " 'raptors_jazz_h1_4.jpg',\n",
       " 'raptors_jazz_h2_0.jpg',\n",
       " 'raptors_jazz_h2_1.jpg',\n",
       " 'raptors_jazz_h2_2.jpg',\n",
       " 'raptors_jazz_h2_3.jpg',\n",
       " 'raptors_jazz_h2_4.jpg',\n",
       " 'raptors_kings_h1_0.jpg',\n",
       " 'raptors_kings_h1_1.jpg',\n",
       " 'raptors_kings_h1_2.jpg',\n",
       " 'raptors_kings_h1_3.jpg',\n",
       " 'raptors_kings_h1_4.jpg',\n",
       " 'raptors_kings_h2_0.jpg',\n",
       " 'raptors_kings_h2_1.jpg',\n",
       " 'raptors_kings_h2_2.jpg',\n",
       " 'raptors_kings_h2_3.jpg',\n",
       " 'raptors_kings_h2_4.jpg',\n",
       " 'raptors_mavs_h1_0.jpg',\n",
       " 'raptors_mavs_h1_1.jpg',\n",
       " 'raptors_mavs_h1_2.jpg',\n",
       " 'raptors_mavs_h1_3.jpg',\n",
       " 'raptors_mavs_h1_4.jpg',\n",
       " 'raptors_mavs_h2_0.jpg',\n",
       " 'raptors_mavs_h2_1.jpg',\n",
       " 'raptors_mavs_h2_2.jpg',\n",
       " 'raptors_mavs_h2_3.jpg',\n",
       " 'raptors_mavs_h2_4.jpg',\n",
       " 'raptors_nuggets_h1_0.jpg',\n",
       " 'raptors_nuggets_h1_1.jpg',\n",
       " 'raptors_nuggets_h1_2.jpg',\n",
       " 'raptors_nuggets_h1_3.jpg',\n",
       " 'raptors_nuggets_h1_4.jpg',\n",
       " 'raptors_nuggets_h2_0.jpg',\n",
       " 'raptors_nuggets_h2_1.jpg',\n",
       " 'raptors_nuggets_h2_2.jpg',\n",
       " 'raptors_nuggets_h2_3.jpg',\n",
       " 'raptors_nuggets_h2_4.jpg',\n",
       " 'raptors_pistons_h1_0.jpg',\n",
       " 'raptors_pistons_h1_1.jpg',\n",
       " 'raptors_pistons_h1_2.jpg',\n",
       " 'raptors_pistons_h1_3.jpg',\n",
       " 'raptors_pistons_h1_4.jpg',\n",
       " 'raptors_pistons_h2_0.jpg',\n",
       " 'raptors_pistons_h2_1.jpg',\n",
       " 'raptors_pistons_h2_2.jpg',\n",
       " 'raptors_pistons_h2_3.jpg',\n",
       " 'raptors_pistons_h2_4.jpg',\n",
       " 'raptors_thunder_h1_0.jpg',\n",
       " 'raptors_thunder_h1_1.jpg',\n",
       " 'raptors_thunder_h1_2.jpg',\n",
       " 'raptors_thunder_h1_3.jpg',\n",
       " 'raptors_thunder_h1_4.jpg',\n",
       " 'raptors_thunder_h2_0.jpg',\n",
       " 'raptors_thunder_h2_1.jpg',\n",
       " 'raptors_thunder_h2_2.jpg',\n",
       " 'raptors_thunder_h2_3.jpg',\n",
       " 'raptors_thunder_h2_4.jpg',\n",
       " 'raptors_warriors_h1_0.jpg',\n",
       " 'raptors_warriors_h1_1.jpg',\n",
       " 'raptors_warriors_h1_2.jpg',\n",
       " 'raptors_warriors_h1_3.jpg',\n",
       " 'raptors_warriors_h1_4.jpg',\n",
       " 'raptors_warriors_h2_0.jpg',\n",
       " 'raptors_warriors_h2_1.jpg',\n",
       " 'raptors_warriors_h2_2.jpg',\n",
       " 'raptors_warriors_h2_3.jpg',\n",
       " 'raptors_warriors_h2_4.jpg',\n",
       " 'raptors_wolves_h1_0.jpg',\n",
       " 'raptors_wolves_h1_1.jpg',\n",
       " 'raptors_wolves_h1_2.jpg',\n",
       " 'raptors_wolves_h1_3.jpg',\n",
       " 'raptors_wolves_h1_4.jpg',\n",
       " 'raptors_wolves_h2_0.jpg',\n",
       " 'raptors_wolves_h2_1.jpg',\n",
       " 'raptors_wolves_h2_2.jpg',\n",
       " 'raptors_wolves_h2_3.jpg',\n",
       " 'raptors_wolves_h2_4.jpg',\n",
       " 'spurs_bulls_h1_0.jpg',\n",
       " 'spurs_bulls_h1_1.jpg',\n",
       " 'spurs_bulls_h1_2.jpg',\n",
       " 'spurs_bulls_h1_3.jpg',\n",
       " 'spurs_bulls_h1_4.jpg',\n",
       " 'spurs_bulls_h2_0.jpg',\n",
       " 'spurs_bulls_h2_1.jpg',\n",
       " 'spurs_bulls_h2_2.jpg',\n",
       " 'spurs_bulls_h2_3.jpg',\n",
       " 'spurs_bulls_h2_4.jpg',\n",
       " 'spurs_hawks_h1_0.jpg',\n",
       " 'spurs_hawks_h1_1.jpg',\n",
       " 'spurs_hawks_h1_2.jpg',\n",
       " 'spurs_hawks_h1_3.jpg',\n",
       " 'spurs_hawks_h1_4.jpg',\n",
       " 'spurs_hawks_h2_0.jpg',\n",
       " 'spurs_hawks_h2_1.jpg',\n",
       " 'spurs_hawks_h2_2.jpg',\n",
       " 'spurs_hawks_h2_3.jpg',\n",
       " 'spurs_hawks_h2_4.jpg',\n",
       " 'spurs_kings_h1_0.jpg',\n",
       " 'spurs_kings_h1_1.jpg',\n",
       " 'spurs_kings_h1_2.jpg',\n",
       " 'spurs_kings_h1_3.jpg',\n",
       " 'spurs_kings_h1_4.jpg',\n",
       " 'spurs_kings_h2_0.jpg',\n",
       " 'spurs_kings_h2_1.jpg',\n",
       " 'spurs_kings_h2_2.jpg',\n",
       " 'spurs_kings_h2_3.jpg',\n",
       " 'spurs_kings_h2_4.jpg',\n",
       " 'spurs_magic_h1_0.jpg',\n",
       " 'spurs_magic_h1_1.jpg',\n",
       " 'spurs_magic_h1_2.jpg',\n",
       " 'spurs_magic_h1_3.jpg',\n",
       " 'spurs_magic_h1_4.jpg',\n",
       " 'spurs_magic_h2_0.jpg',\n",
       " 'spurs_magic_h2_1.jpg',\n",
       " 'spurs_magic_h2_2.jpg',\n",
       " 'spurs_magic_h2_3.jpg',\n",
       " 'spurs_magic_h2_4.jpg',\n",
       " 'suns_cavs_h1_0.jpg',\n",
       " 'suns_cavs_h1_1.jpg',\n",
       " 'suns_cavs_h1_2.jpg',\n",
       " 'suns_cavs_h1_3.jpg',\n",
       " 'suns_cavs_h1_4.jpg',\n",
       " 'suns_cavs_h2_0.jpg',\n",
       " 'suns_cavs_h2_1.jpg',\n",
       " 'suns_cavs_h2_2.jpg',\n",
       " 'suns_cavs_h2_3.jpg',\n",
       " 'suns_cavs_h2_4.jpg',\n",
       " 'suns_celtics_h1_0.jpg',\n",
       " 'suns_celtics_h1_1.jpg',\n",
       " 'suns_celtics_h1_2.jpg',\n",
       " 'suns_celtics_h1_3.jpg',\n",
       " 'suns_celtics_h1_4.jpg',\n",
       " 'suns_celtics_h2_0.jpg',\n",
       " 'suns_celtics_h2_1.jpg',\n",
       " 'suns_celtics_h2_2.jpg',\n",
       " 'suns_celtics_h2_3.jpg',\n",
       " 'suns_celtics_h2_4.jpg',\n",
       " 'suns_pelicans_h1_0.jpg',\n",
       " 'suns_pelicans_h1_1.jpg',\n",
       " 'suns_pelicans_h1_2.jpg',\n",
       " 'suns_pelicans_h1_3.jpg',\n",
       " 'suns_pelicans_h1_4.jpg',\n",
       " 'suns_pelicans_h2_0.jpg',\n",
       " 'suns_pelicans_h2_1.jpg',\n",
       " 'suns_pelicans_h2_2.jpg',\n",
       " 'suns_pelicans_h2_3.jpg',\n",
       " 'suns_pelicans_h2_4.jpg',\n",
       " 'thunder_celtics_h1_0.jpg',\n",
       " 'thunder_celtics_h1_1.jpg',\n",
       " 'thunder_celtics_h1_2.jpg',\n",
       " 'thunder_celtics_h1_3.jpg',\n",
       " 'thunder_celtics_h1_4.jpg',\n",
       " 'thunder_celtics_h2_0.jpg',\n",
       " 'thunder_celtics_h2_1.jpg',\n",
       " 'thunder_celtics_h2_2.jpg',\n",
       " 'thunder_celtics_h2_3.jpg',\n",
       " 'thunder_celtics_h2_4.jpg',\n",
       " 'thunder_heat_h1_0.jpg',\n",
       " 'thunder_heat_h1_1.jpg',\n",
       " 'thunder_heat_h1_2.jpg',\n",
       " 'thunder_heat_h1_3.jpg',\n",
       " 'thunder_heat_h1_4.jpg',\n",
       " 'thunder_heat_h2_0.jpg',\n",
       " 'thunder_heat_h2_1.jpg',\n",
       " 'thunder_heat_h2_2.jpg',\n",
       " 'thunder_heat_h2_3.jpg',\n",
       " 'thunder_heat_h2_4.jpg',\n",
       " 'thunder_nets_h1_0.jpg',\n",
       " 'thunder_nets_h1_1.jpg',\n",
       " 'thunder_nets_h1_2.jpg',\n",
       " 'thunder_nets_h1_3.jpg',\n",
       " 'thunder_nets_h1_4.jpg',\n",
       " 'thunder_nets_h2_0.jpg',\n",
       " 'thunder_nets_h2_1.jpg',\n",
       " 'thunder_nets_h2_2.jpg',\n",
       " 'thunder_nets_h2_3.jpg',\n",
       " 'thunder_nets_h2_4.jpg',\n",
       " 'thunder_pelicans_h1_0.jpg',\n",
       " 'thunder_pelicans_h1_1.jpg',\n",
       " 'thunder_pelicans_h1_2.jpg',\n",
       " 'thunder_pelicans_h1_3.jpg',\n",
       " 'thunder_pelicans_h1_4.jpg',\n",
       " 'thunder_pelicans_h2_0.jpg',\n",
       " 'thunder_pelicans_h2_1.jpg',\n",
       " 'thunder_pelicans_h2_2.jpg',\n",
       " 'thunder_pelicans_h2_3.jpg',\n",
       " 'thunder_pelicans_h2_4.jpg',\n",
       " 'thunder_rockets_h1_0.jpg',\n",
       " 'thunder_rockets_h1_1.jpg',\n",
       " 'thunder_rockets_h1_2.jpg',\n",
       " 'thunder_rockets_h1_3.jpg',\n",
       " 'thunder_rockets_h1_4.jpg',\n",
       " 'thunder_rockets_h2_0.jpg',\n",
       " 'thunder_rockets_h2_1.jpg',\n",
       " 'thunder_rockets_h2_2.jpg',\n",
       " 'thunder_rockets_h2_3.jpg',\n",
       " 'thunder_rockets_h2_4.jpg',\n",
       " 'thunder_thunder_h1_0.jpg',\n",
       " 'thunder_thunder_h1_1.jpg',\n",
       " 'thunder_thunder_h1_2.jpg',\n",
       " 'thunder_thunder_h1_3.jpg',\n",
       " 'thunder_thunder_h1_4.jpg',\n",
       " 'thunder_thunder_h2_0.jpg',\n",
       " 'thunder_thunder_h2_1.jpg',\n",
       " 'thunder_thunder_h2_2.jpg',\n",
       " 'thunder_thunder_h2_3.jpg',\n",
       " 'thunder_thunder_h2_4.jpg',\n",
       " 'wizards_clippers_h1_0.jpg',\n",
       " 'wizards_clippers_h1_1.jpg',\n",
       " 'wizards_clippers_h1_2.jpg',\n",
       " 'wizards_clippers_h1_3.jpg',\n",
       " 'wizards_clippers_h1_4.jpg',\n",
       " 'wizards_clippers_h2_0.jpg',\n",
       " 'wizards_clippers_h2_1.jpg',\n",
       " 'wizards_clippers_h2_2.jpg',\n",
       " 'wizards_clippers_h2_3.jpg',\n",
       " 'wizards_clippers_h2_4.jpg',\n",
       " 'wizards_grizzlies_h1_0.jpg',\n",
       " 'wizards_grizzlies_h1_1.jpg',\n",
       " 'wizards_grizzlies_h1_2.jpg',\n",
       " 'wizards_grizzlies_h1_3.jpg',\n",
       " 'wizards_grizzlies_h1_4.jpg',\n",
       " 'wizards_grizzlies_h2_0.jpg',\n",
       " 'wizards_grizzlies_h2_1.jpg',\n",
       " 'wizards_grizzlies_h2_2.jpg',\n",
       " 'wizards_grizzlies_h2_3.jpg',\n",
       " 'wizards_grizzlies_h2_4.jpg',\n",
       " 'wizards_pistons_h1_0.jpg',\n",
       " 'wizards_pistons_h1_1.jpg',\n",
       " 'wizards_pistons_h1_2.jpg',\n",
       " 'wizards_pistons_h1_3.jpg',\n",
       " 'wizards_pistons_h1_4.jpg',\n",
       " 'wizards_pistons_h2_0.jpg',\n",
       " 'wizards_pistons_h2_1.jpg',\n",
       " 'wizards_pistons_h2_2.jpg',\n",
       " 'wizards_pistons_h2_3.jpg',\n",
       " 'wizards_pistons_h2_4.jpg',\n",
       " 'wizards_spurs_h1_0.jpg',\n",
       " 'wizards_spurs_h1_1.jpg',\n",
       " 'wizards_spurs_h1_2.jpg',\n",
       " 'wizards_spurs_h1_3.jpg',\n",
       " 'wizards_spurs_h1_4.jpg',\n",
       " 'wizards_spurs_h2_0.jpg',\n",
       " 'wizards_spurs_h2_1.jpg',\n",
       " 'wizards_spurs_h2_2.jpg',\n",
       " 'wizards_spurs_h2_3.jpg',\n",
       " 'wizards_spurs_h2_4.jpg',\n",
       " 'wolves_clippers_h1_0.jpg',\n",
       " 'wolves_clippers_h1_1.jpg',\n",
       " 'wolves_clippers_h1_2.jpg',\n",
       " 'wolves_clippers_h1_3.jpg',\n",
       " 'wolves_clippers_h1_4.jpg',\n",
       " 'wolves_clippers_h2_0.jpg',\n",
       " 'wolves_clippers_h2_1.jpg',\n",
       " 'wolves_clippers_h2_2.jpg',\n",
       " 'wolves_clippers_h2_3.jpg',\n",
       " 'wolves_clippers_h2_4.jpg',\n",
       " 'wolves_hawks_h1_0.jpg',\n",
       " 'wolves_hawks_h1_1.jpg',\n",
       " 'wolves_hawks_h1_2.jpg',\n",
       " 'wolves_hawks_h1_3.jpg',\n",
       " 'wolves_hawks_h1_4.jpg',\n",
       " 'wolves_hawks_h2_0.jpg',\n",
       " 'wolves_hawks_h2_1.jpg',\n",
       " 'wolves_hawks_h2_2.jpg',\n",
       " 'wolves_hawks_h2_3.jpg',\n",
       " 'wolves_hawks_h2_4.jpg',\n",
       " 'wolves_lakers_h1_0.jpg',\n",
       " 'wolves_lakers_h1_1.jpg',\n",
       " 'wolves_lakers_h1_2.jpg',\n",
       " 'wolves_lakers_h1_3.jpg',\n",
       " 'wolves_lakers_h1_4.jpg',\n",
       " 'wolves_lakers_h2_0.jpg',\n",
       " 'wolves_lakers_h2_1.jpg',\n",
       " 'wolves_lakers_h2_2.jpg',\n",
       " 'wolves_lakers_h2_3.jpg',\n",
       " 'wolves_lakers_h2_4.jpg'}"
      ]
     },
     "execution_count": 33,
     "metadata": {},
     "output_type": "execute_result"
    }
   ],
   "source": [
    "set(os.listdir('../team_p2'))"
   ]
  },
  {
   "cell_type": "code",
   "execution_count": null,
   "metadata": {
    "collapsed": true
   },
   "outputs": [],
   "source": []
  }
 ],
 "metadata": {
  "kernelspec": {
   "display_name": "Python 3",
   "language": "python",
   "name": "python3"
  },
  "language_info": {
   "codemirror_mode": {
    "name": "ipython",
    "version": 3
   },
   "file_extension": ".py",
   "mimetype": "text/x-python",
   "name": "python",
   "nbconvert_exporter": "python",
   "pygments_lexer": "ipython3",
   "version": "3.6.4"
  }
 },
 "nbformat": 4,
 "nbformat_minor": 2
}
