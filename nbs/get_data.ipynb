{
 "cells": [
  {
   "cell_type": "code",
   "execution_count": null,
   "metadata": {},
   "outputs": [],
   "source": [
    "import os\n",
    "import sys\n",
    "import numpy as np\n",
    "import pandas as pd\n",
    "import pickle\n",
    "\n",
    "from selenium import webdriver\n",
    "from selenium.webdriver.chrome.options import Options"
   ]
  },
  {
   "cell_type": "code",
   "execution_count": null,
   "metadata": {},
   "outputs": [],
   "source": [
    "teams = ['rockets', 'raptors', 'blazers', 'thunder', 'jazz', 'pelicans', \n",
    "         'spurs', 'wolves', 'nuggets', 'clippers', 'lakers', 'kings', \n",
    "         'mavs', 'grizzlies', 'suns', 'warriors', 'celtics', '76ers', \n",
    "         'cavs', 'pacers', 'heat', 'bucks', 'wizards', 'pistons', \n",
    "         'hornets', 'knicks', 'nets', 'bulls', 'magic', 'hawks']"
   ]
  },
  {
   "cell_type": "code",
   "execution_count": null,
   "metadata": {},
   "outputs": [],
   "source": [
    "team_combs = set()\n",
    "def get_images(team_1, team_2, print_teams=False, pickle_path='pic_map.pkl'):\n",
    "    \n",
    "    res_list = pickle.load(open(pickle_path,'rb')) if pickle_path else []\n",
    "    \n",
    "    if (team_1, team_2) in team_combs:\n",
    "        return False\n",
    "    team_combs.add((team_1, team_2))\n",
    "    res_dict = {t:0 for t in teams} # initialize all teams to 0\n",
    "    res_dict[team_1] = 1\n",
    "    res_dict[team_2] = 1\n",
    "    \n",
    "    if print_teams: print(team_1, team_2)\n",
    "    \n",
    "    # get id for first video\n",
    "    driver.get(f'https://www.youtube.com/results?search_query={team_1}+vs+{team_2}+highlights+2018&start=20')\n",
    "    yt_id = driver.find_element_by_id(\"video-title\").get_attribute('href').split(\"?v=\")[1]\n",
    "    \n",
    "    # get first half screenshots\n",
    "    driver.get(f'http://www.youtube.com/embed/{yt_id}?rel=0&autoplay=1&start=20')\n",
    "    for i in range(5):\n",
    "        sleep(7)\n",
    "        file_path = f'/users/gcmac/desktop/nba_photos/team_p2/{team_1}_{team_2}_h1_{i}.jpg'\n",
    "        driver.get_screenshot_as_file(file_path)\n",
    "        res_dict['file'] = file_path\n",
    "        res_list.append(res_dict)\n",
    "    \n",
    "    # skip to second half to get shots of teams on opposite sides of court for offense/defense\n",
    "    driver.get(f'http://www.youtube.com/embed/{yt_id}?rel=0&autoplay=1&start=300')\n",
    "    for i in range(5):\n",
    "        sleep(8)\n",
    "        file_path = f'/users/gcmac/desktop/nba_photos/team_p2/{team_1}_{team_2}_h2_{i}.jpg'\n",
    "        driver.get_screenshot_as_file(file_path)\n",
    "        res_dict['file'] = file_path\n",
    "        res_list.append(res_dict)\n",
    "\n",
    "    pickle.dump(res_list, open(pickle_path,'wb'))\n",
    "    "
   ]
  },
  {
   "cell_type": "code",
   "execution_count": null,
   "metadata": {},
   "outputs": [],
   "source": [
    "# Initial data pull\n",
    "driver = webdriver.Firefox() \n",
    "driver.maximize_window()\n",
    "\n",
    "for i in range(350):\n",
    "    team_1, team_2 = np.random.choice(teams, 2, replace=False, print_teams=True)\n",
    "    get_images(team1, team_2)"
   ]
  },
  {
   "cell_type": "code",
   "execution_count": null,
   "metadata": {},
   "outputs": [],
   "source": [
    "# set low accuracy teams to be weighted by raptors\n",
    "low_acc_teams = ['spurs','thunder','knicks','grizzlies','wolves','kings',\n",
    "                 'suns','wizards','nuggets']+ ['raptors']*3"
   ]
  },
  {
   "cell_type": "code",
   "execution_count": null,
   "metadata": {},
   "outputs": [],
   "source": [
    "# Data to augment low accuracy teams\n",
    "driver = webdriver.Firefox() \n",
    "driver.maximize_window()\n",
    "\n",
    "for i in range(50):\n",
    "    team_1 = np.random.choice(low_acc_teams, 1)[0]\n",
    "    team_2 = np.random.choice(set(teams)-set(team_1), 1, replace=False)\n",
    "    get_images(team1, team_2, print_teams=True, pickle_path='extra_data.pkl')"
   ]
  }
 ],
 "metadata": {
  "kernelspec": {
   "display_name": "Python 3",
   "language": "python",
   "name": "python3"
  },
  "language_info": {
   "codemirror_mode": {
    "name": "ipython",
    "version": 3
   },
   "file_extension": ".py",
   "mimetype": "text/x-python",
   "name": "python",
   "nbconvert_exporter": "python",
   "pygments_lexer": "ipython3",
   "version": "3.6.4"
  }
 },
 "nbformat": 4,
 "nbformat_minor": 2
}
